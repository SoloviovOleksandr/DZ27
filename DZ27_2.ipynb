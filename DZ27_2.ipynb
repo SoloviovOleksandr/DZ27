{
 "cells": [
  {
   "cell_type": "code",
   "execution_count": null,
   "id": "7bb88414",
   "metadata": {},
   "outputs": [],
   "source": [
    "n = 10000\n",
    "p(A) = 99.99%\n",
    "M(X)-? S(X)-?\n",
    "p(B) = (100 - 99.99)/100 = 0.0001\n",
    "lambda = M(X) = D(X) = n*p = 10000 * 0.0001 = 1\n",
    "S(X) = sqrt(D(X)) = sqrt(1) = 1\n",
    "1 - never gone fishing"
   ]
  }
 ],
 "metadata": {
  "kernelspec": {
   "display_name": "Python 3 (ipykernel)",
   "language": "python",
   "name": "python3"
  },
  "language_info": {
   "codemirror_mode": {
    "name": "ipython",
    "version": 3
   },
   "file_extension": ".py",
   "mimetype": "text/x-python",
   "name": "python",
   "nbconvert_exporter": "python",
   "pygments_lexer": "ipython3",
   "version": "3.9.13"
  }
 },
 "nbformat": 4,
 "nbformat_minor": 5
}
