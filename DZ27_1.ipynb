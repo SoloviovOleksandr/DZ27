{
 "cells": [
  {
   "cell_type": "code",
   "execution_count": null,
   "id": "4e8570fa",
   "metadata": {},
   "outputs": [],
   "source": [
    "n = 10000\n",
    "p = 0.0007\n",
    "M(X)-? S(X)-?\n",
    "lambda = M(X) = D(X) = n*p= 7\n",
    "S(X) = sqrt(D(X)) = sqrt(7) = 2.64\n",
    "Possibility that 7 transistors break durning the work"
   ]
  }
 ],
 "metadata": {
  "kernelspec": {
   "display_name": "Python 3 (ipykernel)",
   "language": "python",
   "name": "python3"
  },
  "language_info": {
   "codemirror_mode": {
    "name": "ipython",
    "version": 3
   },
   "file_extension": ".py",
   "mimetype": "text/x-python",
   "name": "python",
   "nbconvert_exporter": "python",
   "pygments_lexer": "ipython3",
   "version": "3.9.13"
  }
 },
 "nbformat": 4,
 "nbformat_minor": 5
}
